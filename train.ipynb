{
 "cells": [
  {
   "cell_type": "markdown",
   "metadata": {},
   "source": [
    "# load data"
   ]
  },
  {
   "cell_type": "code",
   "execution_count": 1454,
   "metadata": {},
   "outputs": [],
   "source": [
    "import numpy as np\n",
    "import pandas as pd\n",
    "import lightgbm as lgb\n",
    "from sklearn.model_selection import GridSearchCV\n",
    "from sklearn import preprocessing\n",
    "from sklearn.preprocessing import scale\n",
    "from sklearn.model_selection import train_test_split\n",
    "from sklearn.metrics import roc_auc_score, accuracy_score\n",
    "from sklearn.metrics import mean_squared_error\n"
   ]
  },
  {
   "cell_type": "code",
   "execution_count": 1461,
   "metadata": {},
   "outputs": [],
   "source": [
    "import warnings \n",
    "warnings.simplefilter(action='ignore', category=FutureWarning)\n",
    "train=pd.read_csv('train.csv')\n",
    "test=pd.read_csv('test.csv')\n",
    "train_y=train['playtime_forever']\n",
    "train_X=train.drop(['playtime_forever'],axis=1)\n",
    "X_tr,X_te , y_tr, y_te = train_test_split(train_X, train_y, random_state=41, test_size=0.1)"
   ]
  },
  {
   "cell_type": "markdown",
   "metadata": {},
   "source": [
    "# resample"
   ]
  },
  {
   "cell_type": "code",
   "execution_count": 1456,
   "metadata": {},
   "outputs": [
    {
     "name": "stderr",
     "output_type": "stream",
     "text": [
      "c:\\users\\irisg\\appdata\\local\\programs\\python\\python35\\lib\\site-packages\\ipykernel_launcher.py:2: SettingWithCopyWarning: \n",
      "A value is trying to be set on a copy of a slice from a DataFrame.\n",
      "Try using .loc[row_indexer,col_indexer] = value instead\n",
      "\n",
      "See the caveats in the documentation: http://pandas.pydata.org/pandas-docs/stable/user_guide/indexing.html#returning-a-view-versus-a-copy\n",
      "  \n"
     ]
    }
   ],
   "source": [
    "resample_data=X_tr\n",
    "resample_data['playtime_forever']=y_tr"
   ]
  },
  {
   "cell_type": "code",
   "execution_count": 1457,
   "metadata": {},
   "outputs": [],
   "source": [
    "#negative class \n",
    "# class which is no class_0=seperate_data(class_0)need for regresion\n",
    "class_0= resample_data[resample_data['playtime_forever']==0]\n",
    "class_1= resample_data[(resample_data['playtime_forever']>0) & (resample_data['playtime_forever']<3)]\n",
    "class_2= resample_data[(resample_data['playtime_forever']>3) & (resample_data['playtime_forever']<10)]\n",
    "class_3= resample_data[(resample_data['playtime_forever']>10) & (resample_data['playtime_forever']<30)]\n",
    "class_4= resample_data[(resample_data['playtime_forever']>30) & (resample_data['playtime_forever']<70)]\n",
    "class_5= resample_data[resample_data['playtime_forever']>70]"
   ]
  },
  {
   "cell_type": "code",
   "execution_count": 1458,
   "metadata": {},
   "outputs": [],
   "source": [
    "after_resample_data=pd.concat([class_0,\n",
    "                                class_1,\n",
    "                                class_2,class_2,class_2,class_2,\n",
    "                                class_3,class_3,class_3,class_3,class_3,class_3,class_3,class_3,class_3,class_3,\n",
    "                                class_4,class_4,class_4,class_4,class_4,class_4,class_4,class_4,class_4,class_4,\n",
    "                                class_5,class_5,class_5,class_5,class_5,class_5,class_5,class_5,class_5,class_5\n",
    "                               ])"
   ]
  },
  {
   "cell_type": "code",
   "execution_count": 1459,
   "metadata": {},
   "outputs": [],
   "source": [
    "after_resample_data=after_resample_data.reset_index(drop=True)\n",
    "y_tr_resample=after_resample_data['playtime_forever']\n",
    "X_tr_resample=after_resample_data.drop(['playtime_forever'],axis=1)"
   ]
  },
  {
   "cell_type": "markdown",
   "metadata": {},
   "source": [
    "# lasso"
   ]
  },
  {
   "cell_type": "code",
   "execution_count": 1465,
   "metadata": {},
   "outputs": [
    {
     "name": "stdout",
     "output_type": "stream",
     "text": [
      "135.5856854043844\n"
     ]
    }
   ],
   "source": [
    "from sklearn.linear_model import Lasso\n",
    "clf=Lasso(alpha=0.1)\n",
    "clf.fit(X_tr_resample,y_tr_resample)\n",
    "preds=clf.predict(X_te)\n",
    "print(mean_squared_error(preds,y_te))\n",
    "output=clf.predict(test)\n",
    "results=pd.DataFrame(output,columns=['playtime_forever'])\n",
    "results['playtime_forever']=results['playtime_forever'].apply(lambda x: 0 if x<0 else x )\n",
    "results.to_csv('results_lasso.csv',index=True,header=True)\n",
    "results=pd.read_csv('results_lasso.csv')\n",
    "results.rename(columns={'Unnamed: 0':'id'})\n",
    "results.to_csv('results_lasso.csv',index=False,header=True)                    "
   ]
  },
  {
   "cell_type": "markdown",
   "metadata": {},
   "source": [
    "# xgboost"
   ]
  },
  {
   "cell_type": "code",
   "execution_count": 1328,
   "metadata": {},
   "outputs": [],
   "source": [
    "import xgboost as xgb"
   ]
  },
  {
   "cell_type": "code",
   "execution_count": 1329,
   "metadata": {},
   "outputs": [],
   "source": [
    "from sklearn import metrics\n",
    "from sklearn.model_selection import GridSearchCV"
   ]
  },
  {
   "cell_type": "code",
   "execution_count": 1471,
   "metadata": {},
   "outputs": [
    {
     "data": {
      "text/plain": [
       "XGBRegressor(base_score=0.5, booster='gbtree', colsample_bylevel=1,\n",
       "             colsample_bynode=1, colsample_bytree=0.6, criterion='mse', gamma=0,\n",
       "             importance_type='gain', learning_rate=0.1, max_delta_step=0,\n",
       "             max_depth=6, min_child_weight=8, missing=None, n_estimators=800,\n",
       "             n_jobs=1, nthread=None, objective='reg:squarederror',\n",
       "             random_state=0, reg_alpha=0.3, reg_lambda=1, scale_pos_weight=1,\n",
       "             seed=None, silent=None, subsample=0.3, verbosity=1)"
      ]
     },
     "execution_count": 1471,
     "metadata": {},
     "output_type": "execute_result"
    }
   ],
   "source": [
    "bst=xgb.XGBRegressor(objective ='reg:squarederror',\n",
    "                         learning_rate=0.1,\n",
    "                          n_estimators=800,\n",
    "                          max_depth=6,\n",
    "                          min_child_weight=8,\n",
    "                          subsample=0.3,\n",
    "                          colsample_bytree=0.6,\n",
    "                          reg_alpha=0.3,\n",
    "                          reg_lambda=1,\n",
    "                          \n",
    "                         criterion='mse')\n",
    "bst.fit(X_tr_resample,y_tr_resample,eval_set=[(X_tr,y_tr),(X_te, y_te)],verbose=False,eval_metric='rmse')"
   ]
  },
  {
   "cell_type": "code",
   "execution_count": 1472,
   "metadata": {},
   "outputs": [
    {
     "name": "stdout",
     "output_type": "stream",
     "text": [
      "22.06570431756743\n"
     ]
    }
   ],
   "source": [
    "preds=bst.predict(X_te)\n",
    "print(mean_squared_error(y_te,preds))"
   ]
  },
  {
   "cell_type": "code",
   "execution_count": 1475,
   "metadata": {},
   "outputs": [
    {
     "name": "stdout",
     "output_type": "stream",
     "text": [
      "[0.9949638843536377, 6.2404465675354, 0.0, 0.0, 14.515026092529297, 0.780192494392395, 3.8857715129852295, 0.0, 1.1469517946243286, 0.0, 1.1953524351119995, 0.0, 3.7923343181610107, 0.8174365758895874, 8.650744438171387, 0.0, 7.451643466949463, 0.0, 1.0387784242630005, 3.245060443878174, 0.0, 5.331924915313721, 0.0, 4.352076053619385, 0.0, 4.142984390258789, 0.0, 4.311939239501953, 0.9434305429458618, 2.9758858680725098, 2.540360450744629, 2.1216397285461426, 0.0, 0.6456385850906372, 6.411214351654053, 0.0, 1.7106058597564697, 1.8349910974502563, 0.0, 0.7676631808280945, 0.0, 5.08602237701416, 1.2598721981048584, 1.1047914028167725, 2.0036017894744873, 0.0, 0.0, 0.0, 0.0, 3.402886152267456, 4.526651382446289, 3.098552942276001, 0.0, 1.1653926372528076, 1.6156338453292847, 2.3017358779907227, 2.5456855297088623, 2.017796039581299, 0.0, 4.5977559089660645, 5.776065826416016, 2.400259017944336, 0.0, 16.40421485900879, 0.0, 6.7127766609191895, 0.5705493092536926, 1.1880005598068237, 7.421222686767578, 0.0, 1.7816460132598877, 10.090156555175781, 1.7402957677841187, 29.025476455688477, 12.14033317565918, 37.869720458984375, 5.3588714599609375, 3.2538411617279053, 0.0, 1.272125244140625, 0.233646959066391, 0.0, 2.8811490535736084, 0.5724402666091919, 0.0, 7.944081783294678, 0.14783445000648499, 0.0, 7.335993766784668, 9.554398536682129]\n"
     ]
    }
   ],
   "source": [
    "output=bst.predict(test)\n",
    "results=pd.DataFrame(output,columns=['playtime_forever'])\n",
    "results['playtime_forever']=results['playtime_forever'].apply(lambda x: 0 if x<0 else x )\n",
    "print(list(results['playtime_forever']))\n",
    "results.to_csv('results_xgb.csv',index=True,header=True)\n",
    "results=pd.read_csv('results_xgb.csv')\n",
    "results.rename(columns={'Unnamed: 0':'id'})\n",
    "results.to_csv('results_xgb.csv',index=False,header=True)                    "
   ]
  },
  {
   "cell_type": "code",
   "execution_count": null,
   "metadata": {},
   "outputs": [],
   "source": []
  }
 ],
 "metadata": {
  "kernelspec": {
   "display_name": "Python 3",
   "language": "python",
   "name": "python3"
  },
  "language_info": {
   "codemirror_mode": {
    "name": "ipython",
    "version": 3
   },
   "file_extension": ".py",
   "mimetype": "text/x-python",
   "name": "python",
   "nbconvert_exporter": "python",
   "pygments_lexer": "ipython3",
   "version": "3.5.4"
  }
 },
 "nbformat": 4,
 "nbformat_minor": 2
}
